{
 "cells": [
  {
   "cell_type": "markdown",
   "id": "786f2eb5-521e-44f2-ac56-2b3a8b05d848",
   "metadata": {},
   "source": [
    "# Data Science Tools and Ecosystem"
   ]
  },
  {
   "cell_type": "markdown",
   "id": "83330419-f9e5-4bf3-8194-2140c55ee5da",
   "metadata": {},
   "source": [
    "In this notebook, Data Science Tools and Ecosystem are summarized."
   ]
  },
  {
   "cell_type": "markdown",
   "id": "8d2def94-ce5f-4258-a9ca-78968a384186",
   "metadata": {},
   "source": [
    "Some of the popular languages that Data Scientists use are:\n",
    "1. R\n",
    "2. Python\n",
    "3. SQL\n",
    "4. Java"
   ]
  },
  {
   "cell_type": "markdown",
   "id": "f57deac5-0365-4d65-8d8a-c77a6a022bd9",
   "metadata": {},
   "source": [
    "Some of the commonly used libraries used by Data Scientists include:\n",
    "1. Pandas\n",
    "2. Numpy\n",
    "3. GGPLOT2\n",
    "4. Scikit-learn"
   ]
  },
  {
   "cell_type": "markdown",
   "id": "10af18c0-9951-4365-b3be-4aac979454fa",
   "metadata": {},
   "source": [
    "Data Science Tools | Jupyter | R Studio | Spyder "
   ]
  },
  {
   "cell_type": "markdown",
   "id": "8dcf7f57-c852-4a96-bba7-cf201fd4cc34",
   "metadata": {},
   "source": [
    "### Below are a few examples of evaluating arithmetic expressions in Python"
   ]
  },
  {
   "cell_type": "markdown",
   "id": "547c4126-e6ec-420d-b7a1-939c24f0471c",
   "metadata": {},
   "source": [
    "This a simple arithmetic expression to mutiply then add integers"
   ]
  },
  {
   "cell_type": "code",
   "execution_count": 1,
   "id": "247c2273-62d5-4be1-965e-e92e0b7c0bfa",
   "metadata": {
    "tags": []
   },
   "outputs": [
    {
     "data": {
      "text/plain": [
       "17"
      ]
     },
     "execution_count": 1,
     "metadata": {},
     "output_type": "execute_result"
    }
   ],
   "source": [
    "(3*4)+5"
   ]
  },
  {
   "cell_type": "markdown",
   "id": "2f11c27c-8236-4dd1-b9f5-d02b22f3a2af",
   "metadata": {},
   "source": [
    "This will convert 200 minutes to hours by diving by 60"
   ]
  },
  {
   "cell_type": "code",
   "execution_count": 2,
   "id": "acf5bd35-1df2-4db3-b1df-4189cfedb0e6",
   "metadata": {
    "tags": []
   },
   "outputs": [
    {
     "name": "stdout",
     "output_type": "stream",
     "text": [
      "200 minutes is equal to 3 hours and 20 minutes.\n"
     ]
    }
   ],
   "source": [
    "total_minutes = 200\n",
    "hours = total_minutes // 60  # Integer division to get hours\n",
    "minutes = total_minutes % 60  # Remainder gives the remaining minutes\n",
    "\n",
    "print(f\"{total_minutes} minutes is equal to {hours} hours and {minutes} minutes.\")"
   ]
  },
  {
   "cell_type": "markdown",
   "id": "91fd7378-507f-4fba-b425-f41e78fe68fc",
   "metadata": {},
   "source": [
    "***Objectives***\n",
    "\n",
    "*List popular languages for data science\n",
    "\n",
    "*List libraries used in data science\n",
    "\n",
    "*Using markdowns in this project\n",
    "\n",
    "*Running a simple arithmetic in this project\n",
    "\n",
    "*Coverting minutes to hours using division"
   ]
  },
  {
   "cell_type": "markdown",
   "id": "87329144-95f5-4adc-8788-1295c3e9135b",
   "metadata": {},
   "source": [
    "## Author \n",
    "CAJETAN NATHAN"
   ]
  },
  {
   "cell_type": "code",
   "execution_count": null,
   "id": "3dcfd6f0-8d5f-47e1-b8ad-ebfb21284633",
   "metadata": {},
   "outputs": [],
   "source": []
  }
 ],
 "metadata": {
  "kernelspec": {
   "display_name": "Python",
   "language": "python",
   "name": "conda-env-python-py"
  },
  "language_info": {
   "codemirror_mode": {
    "name": "ipython",
    "version": 3
   },
   "file_extension": ".py",
   "mimetype": "text/x-python",
   "name": "python",
   "nbconvert_exporter": "python",
   "pygments_lexer": "ipython3",
   "version": "3.7.12"
  }
 },
 "nbformat": 4,
 "nbformat_minor": 5
}
